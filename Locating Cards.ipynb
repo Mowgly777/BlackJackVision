{
 "cells": [
  {
   "cell_type": "code",
   "execution_count": 1,
   "metadata": {},
   "outputs": [],
   "source": [
    "import cv2\n",
    "import matplotlib.pyplot as plt\n",
    "import numpy as np\n",
    "\n",
    "%matplotlib inline"
   ]
  },
  {
   "cell_type": "markdown",
   "metadata": {},
   "source": [
    "Colour Image shape: 1440, 1920, 3"
   ]
  },
  {
   "cell_type": "code",
   "execution_count": 2,
   "metadata": {
    "scrolled": false
   },
   "outputs": [
    {
     "name": "stdout",
     "output_type": "stream",
     "text": [
      "Size 400 905\n",
      "Count 44581.0\n"
     ]
    },
    {
     "data": {
      "image/png": "[encoded data removed]",
      "text/plain": [
       "<Figure size 432x288 with 1 Axes>"
      ]
     },
     "metadata": {},
     "output_type": "display_data"
    }
   ],
   "source": [
    "img = cv2.imread(\"Original Files/GOPR0318/01305.png\", cv2.IMREAD_GRAYSCALE) #IMREAD_COLOR IMREAD_GRAYSCALE \n",
    "white = img[400:800,320:1225] #only extract the middle of the image - i.e. the desk\n",
    "white[white >= 150] = 255\n",
    "white[white < 200]  = 0\n",
    "height,width = white.shape\n",
    "print('Size',height,width)\n",
    "print('Count',white.sum()/255)\n",
    "plt.imshow(white);"
   ]
  },
  {
   "cell_type": "code",
   "execution_count": 3,
   "metadata": {},
   "outputs": [],
   "source": [
    "#filter\n",
    "filt = np.array([[1,1,1,1,1,1,1],\n",
    "                 [1,1,1,1,1,1,1],\n",
    "                 [1,1,1,1,1,1,1],\n",
    "                 [1,1,1,1,1,1,1],\n",
    "                 [1,1,1,1,1,1,1],\n",
    "                 [1,1,1,1,1,1,1],\n",
    "                 [1,1,1,1,1,1,1]])\n",
    "\n",
    "def check_density(img,x,y,height,width):\n",
    "    dot_prod = 0\n",
    "    if(x+3<height and y+3< width and x-3>=0 and y-3>=0):\n",
    "#         print(np.array(white[x-2:x+3,y-2:y+3]))\n",
    "        dot_prod = np.sum(np.dot(np.array(img[x-3:x+4,y-3:y+4]),filt))\n",
    "        \n",
    "    if(dot_prod > (255*7*7)):\n",
    "        return False\n",
    "    else:\n",
    "        return True"
   ]
  },
  {
   "cell_type": "code",
   "execution_count": 16,
   "metadata": {},
   "outputs": [
    {
     "ename": "TypeError",
     "evalue": "check_density() missing 1 required positional argument: 'width'",
     "output_type": "error",
     "traceback": [
      "\u001b[1;31m---------------------------------------------------------------------------\u001b[0m",
      "\u001b[1;31mTypeError\u001b[0m                                 Traceback (most recent call last)",
      "\u001b[1;32m<ipython-input-16-272b9693e2d6>\u001b[0m in \u001b[0;36m<module>\u001b[1;34m()\u001b[0m\n\u001b[0;32m      6\u001b[0m     \u001b[1;32mfor\u001b[0m \u001b[0mj\u001b[0m \u001b[1;32min\u001b[0m \u001b[0mrange\u001b[0m\u001b[1;33m(\u001b[0m\u001b[0mwidth\u001b[0m\u001b[1;33m)\u001b[0m\u001b[1;33m:\u001b[0m\u001b[1;33m\u001b[0m\u001b[0m\n\u001b[0;32m      7\u001b[0m         \u001b[1;32mif\u001b[0m \u001b[1;33m(\u001b[0m\u001b[0mwhite\u001b[0m\u001b[1;33m[\u001b[0m\u001b[0mtop\u001b[0m\u001b[1;33m,\u001b[0m\u001b[0mj\u001b[0m\u001b[1;33m]\u001b[0m \u001b[1;33m==\u001b[0m \u001b[1;36m255\u001b[0m\u001b[1;33m)\u001b[0m\u001b[1;33m:\u001b[0m\u001b[1;33m\u001b[0m\u001b[0m\n\u001b[1;32m----> 8\u001b[1;33m             \u001b[0mtopNotFound\u001b[0m \u001b[1;33m=\u001b[0m \u001b[0mcheck_density\u001b[0m\u001b[1;33m(\u001b[0m\u001b[0mtop\u001b[0m\u001b[1;33m,\u001b[0m\u001b[0mj\u001b[0m\u001b[1;33m,\u001b[0m\u001b[0mheight\u001b[0m\u001b[1;33m,\u001b[0m\u001b[0mwidth\u001b[0m\u001b[1;33m)\u001b[0m\u001b[1;33m\u001b[0m\u001b[0m\n\u001b[0m\u001b[0;32m      9\u001b[0m \u001b[1;33m\u001b[0m\u001b[0m\n\u001b[0;32m     10\u001b[0m \u001b[0mbotNotFound\u001b[0m \u001b[1;33m=\u001b[0m \u001b[1;32mTrue\u001b[0m\u001b[1;33m\u001b[0m\u001b[0m\n",
      "\u001b[1;31mTypeError\u001b[0m: check_density() missing 1 required positional argument: 'width'"
     ]
    }
   ],
   "source": [
    "\n",
    "topNotFound = True\n",
    "top =- 1\n",
    "\n",
    "while(topNotFound):\n",
    "    top+=1\n",
    "    for j in range(width):\n",
    "        if (white[top,j] == 255):\n",
    "            topNotFound = check_density(top,j,height,width)\n",
    "\n",
    "botNotFound = True\n",
    "bot = height\n",
    "while(botNotFound):\n",
    "    bot-=1\n",
    "    for j in range(width):\n",
    "        if (white[bot,j] == 255):\n",
    "            botNotFound = check_density(bot,j,height,width)\n",
    "\n",
    "lefNotFound = True\n",
    "lef = -1\n",
    "while(lefNotFound):\n",
    "    lef+=1\n",
    "    for j in range(height):\n",
    "        if (white[j,lef] == 255):\n",
    "            lefNotFound = check_density(j,lef,height,width)\n",
    "\n",
    "rigNotFound = True\n",
    "rig = width\n",
    "while(rigNotFound):\n",
    "    rig-=1\n",
    "    for j in range(height):\n",
    "        if (white[j,rig] == 255):\n",
    "            rigNotFound = check_density(j,rig,height,width)\n",
    "\n",
    "\n",
    "top_crop = white[top:bot,lef:rig]\n",
    "plt.imshow(top_crop)"
   ]
  },
  {
   "cell_type": "code",
   "execution_count": 4,
   "metadata": {},
   "outputs": [],
   "source": [
    "def getCardBox(img_file, removeImg = 0, old_box = None):\n",
    "    \n",
    "    img = cv2.imread(img_file, cv2.IMREAD_GRAYSCALE) #IMREAD_COLOR IMREAD_GRAYSCALE \n",
    "    img = img[400:800,320:1225] #only extract the middle of the image - i.e. the desk\n",
    "    \n",
    "    img[img >= 150] = 255\n",
    "    img[img < 200]  = 0\n",
    "    img_full = img.copy()\n",
    "    if(removeImg != 0):\n",
    "        img[old_box[1]:old_box[2],old_box[3]:old_box[4]] = 0\n",
    "        \n",
    "    height,width = img.shape\n",
    "    \n",
    "    topNotFound = True\n",
    "    top = -1\n",
    "    top_full = -1\n",
    "    while(topNotFound):\n",
    "        top+=1\n",
    "        for j in range(width):\n",
    "            if (img[top,j] == 255):\n",
    "                topNotFound = check_density(img,top,j,height,width)\n",
    "                if(not topNotFound):\n",
    "                    break\n",
    "            if (top_full == -1 and img_full[top,j] == 255):\n",
    "                if(not check_density(img_full,top,j,height,width)):\n",
    "                    top_full = top\n",
    "                \n",
    "\n",
    "    botNotFound = True\n",
    "    bot = height\n",
    "    while(botNotFound):\n",
    "        bot-=1\n",
    "        for j in range(width):\n",
    "            if (img[bot,j] == 255):\n",
    "                botNotFound = check_density(img,bot,j,height,width)\n",
    "                if(not botNotFound):\n",
    "                    break\n",
    "\n",
    "    lefNotFound = True\n",
    "    lef = -1\n",
    "    while(lefNotFound):\n",
    "        lef+=1\n",
    "        for j in range(height):\n",
    "            if (img[j,lef] == 255):\n",
    "                lefNotFound = check_density(img,j,lef,height,width)\n",
    "                if(not lefNotFound):\n",
    "                    break\n",
    "\n",
    "    rigNotFound = True\n",
    "    rig = width\n",
    "    rig_full = -1\n",
    "    while(rigNotFound):\n",
    "        rig-=1\n",
    "        for j in range(height):\n",
    "            if (img[j,rig] == 255):\n",
    "                rigNotFound = check_density(img,j,rig,height,width)\n",
    "                if(not topNotFound):\n",
    "                    break\n",
    "            if (rig_full == -1 and img_full[j,rig] == 255):\n",
    "                if(not check_density(img_full,j,rig,height,width)):\n",
    "                    rig_full = rig\n",
    "\n",
    "    if(removeImg == 0):\n",
    "        return([img,top,bot,lef,rig])\n",
    "    else:\n",
    "        return([img_full,img,top,bot,lef,rig,top_full,rig_full])\n"
   ]
  },
  {
   "cell_type": "code",
   "execution_count": 10,
   "metadata": {},
   "outputs": [
    {
     "data": {
      "text/plain": [
       "<matplotlib.image.AxesImage at 0x1b8acafc6d8>"
      ]
     },
     "execution_count": 10,
     "metadata": {},
     "output_type": "execute_result"
    },
    {
     "data": {
      "image/png": "[encoded data removed]",
      "text/plain": [
       "<Figure size 432x288 with 1 Axes>"
      ]
     },
     "metadata": {},
     "output_type": "display_data"
    }
   ],
   "source": [
    "old_box = getCardBox(\"Original Files/GOPR0318/01049.png\")\n",
    "plt.imshow(old_box[0][old_box[1]:old_box[2],old_box[3]:old_box[4]])"
   ]
  },
  {
   "cell_type": "code",
   "execution_count": 15,
   "metadata": {},
   "outputs": [
    {
     "name": "stdout",
     "output_type": "stream",
     "text": [
      "[array([[0, 0, 0, ..., 0, 0, 0],\n",
      "       [0, 0, 0, ..., 0, 0, 0],\n",
      "       [0, 0, 0, ..., 0, 0, 0],\n",
      "       ...,\n",
      "       [0, 0, 0, ..., 0, 0, 0],\n",
      "       [0, 0, 0, ..., 0, 0, 0],\n",
      "       [0, 0, 0, ..., 0, 0, 0]], dtype=uint8), array([[0, 0, 0, ..., 0, 0, 0],\n",
      "       [0, 0, 0, ..., 0, 0, 0],\n",
      "       [0, 0, 0, ..., 0, 0, 0],\n",
      "       ...,\n",
      "       [0, 0, 0, ..., 0, 0, 0],\n",
      "       [0, 0, 0, ..., 0, 0, 0],\n",
      "       [0, 0, 0, ..., 0, 0, 0]], dtype=uint8), 169, 276, 165, 356, 63, 577]\n"
     ]
    },
    {
     "data": {
      "text/plain": [
       "<matplotlib.image.AxesImage at 0x1b8accc8c18>"
      ]
     },
     "execution_count": 15,
     "metadata": {},
     "output_type": "execute_result"
    },
    {
     "data": {
      "image/png": "[encoded data removed]",
      "text/plain": [
       "<Figure size 432x288 with 1 Axes>"
      ]
     },
     "metadata": {},
     "output_type": "display_data"
    }
   ],
   "source": [
    "new_box = getCardBox(\"Original Files/GOPR0318/01305.png\",1,old_box)\n",
    "print(new_box)\n",
    "plt.imshow(new_box[0][new_box[2]-5:new_box[3],new_box[4]:new_box[5]+5])"
   ]
  },
  {
   "cell_type": "code",
   "execution_count": 11,
   "metadata": {},
   "outputs": [
    {
     "data": {
      "text/plain": [
       "<matplotlib.image.AxesImage at 0x1b8acb5e5c0>"
      ]
     },
     "execution_count": 11,
     "metadata": {},
     "output_type": "execute_result"
    },
    {
     "data": {
      "image/png": "[encoded data removed]",
      "text/plain": [
       "<Figure size 432x288 with 1 Axes>"
      ]
     },
     "metadata": {},
     "output_type": "display_data"
    }
   ],
   "source": [
    "plt.imshow(new_box[0][new_box[6]:new_box[3],new_box[4]:new_box[7]])"
   ]
  },
  {
   "cell_type": "markdown",
   "metadata": {},
   "source": [
    "steps for layered cards:\n",
    "- read card\n",
    "- request new card\n",
    "- read new 2 card combo\n",
    "- remove old card info"
   ]
  },
  {
   "cell_type": "code",
   "execution_count": null,
   "metadata": {},
   "outputs": [],
   "source": []
  }
 ],
 "metadata": {
  "kernelspec": {
   "display_name": "Python 3",
   "language": "python",
   "name": "python3"
  },
  "language_info": {
   "codemirror_mode": {
    "name": "ipython",
    "version": 3
   },
   "file_extension": ".py",
   "mimetype": "text/x-python",
   "name": "python",
   "nbconvert_exporter": "python",
   "pygments_lexer": "ipython3",
   "version": "3.6.5"
  }
 },
 "nbformat": 4,
 "nbformat_minor": 2
}
